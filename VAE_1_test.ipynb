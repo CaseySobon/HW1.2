{
  "cells": [
    {
      "cell_type": "markdown",
      "metadata": {
        "id": "view-in-github",
        "colab_type": "text"
      },
      "source": [
        "<a href=\"https://colab.research.google.com/github/CaseySobon/Variational-autoencoder-VAE/blob/main/VAE_1_test.ipynb\" target=\"_parent\"><img src=\"https://colab.research.google.com/assets/colab-badge.svg\" alt=\"Open In Colab\"/></a>"
      ]
    },
    {
      "cell_type": "code",
      "source": [
        "import pandas as pd\n",
        "df = pd.read_csv('data1.csv')\n",
        "df.info()"
      ],
      "metadata": {
        "id": "AU0A6Z6Y4Pg7"
      },
      "execution_count": null,
      "outputs": []
    },
    {
      "cell_type": "code",
      "source": [
        "#remove the NaN\n",
        "df = df.dropna()"
      ],
      "metadata": {
        "id": "ahqR_0ykORtW"
      },
      "execution_count": null,
      "outputs": []
    },
    {
      "cell_type": "code",
      "execution_count": null,
      "metadata": {
        "id": "pG364jsPmAiI"
      },
      "outputs": [],
      "source": [
        "#drop the class column\n",
        "df=df.drop('Class', axis=1)\n"
      ]
    },
    {
      "cell_type": "code",
      "source": [
        "#Make an numpy array for calculations\n",
        "import numpy as np\n",
        "\n",
        "Input = df.to_numpy()"
      ],
      "metadata": {
        "id": "Tt-UesTppSzz"
      },
      "execution_count": null,
      "outputs": []
    },
    {
      "cell_type": "code",
      "source": [
        "# train test split\n",
        "from sklearn.model_selection import train_test_split\n",
        "x_train, x_test = train_test_split(Input, test_size=0.1, random_state=42)\n",
        "print(x_train.shape)\n",
        "print(x_test.shape)"
      ],
      "metadata": {
        "colab": {
          "base_uri": "https://localhost:8080/"
        },
        "id": "FNaXv3OTphUl",
        "outputId": "d2ca68f9-f6ca-4490-d7cb-7bae7e7c5e3b"
      },
      "execution_count": null,
      "outputs": [
        {
          "output_type": "stream",
          "name": "stdout",
          "text": [
            "(256326, 28)\n",
            "(28481, 28)\n"
          ]
        }
      ]
    },
    {
      "cell_type": "code",
      "execution_count": null,
      "metadata": {
        "id": "N3e7tv6rmAij"
      },
      "outputs": [],
      "source": [
        "from keras.layers import Input,Dense\n",
        "from keras.models import Model\n",
        "import tensorflow as tf"
      ]
    },
    {
      "cell_type": "code",
      "source": [
        "class AutoEncoder(Model):\n",
        "  def __init__(self):\n",
        "    super(AutoEncoder, self).__init__()\n",
        "    self.encoder = tf.keras.Sequential([\n",
        "                  tf.keras.layers.Dense(16, activation=\"relu\"),\n",
        "                  #tf.keras.layers.Dense(8, activation=\"relu\"),\n",
        "                  #tf.keras.layers.Dense(4, activation=\"relu\"),\n",
        "                  tf.keras.layers.Dense(2, activation=\"relu\")\n",
        "              ])\n",
        "    self.decoder = tf.keras.Sequential([\n",
        "                  #tf.keras.layers.Dense(4, activation=\"relu\"),\n",
        "                  #tf.keras.layers.Dense(8, activation=\"relu\"),\n",
        "                  tf.keras.layers.Dense(16, activation=\"relu\"),\n",
        "                  tf.keras.layers.Dense(28, activation=\"sigmoid\")\n",
        "              ])\n",
        "  def call(self, x):\n",
        "    encoded = self.encoder(x)\n",
        "    decoded = self.decoder(encoded)\n",
        "    return decoded"
      ],
      "metadata": {
        "id": "CbygfRLKxGeC"
      },
      "execution_count": null,
      "outputs": []
    },
    {
      "cell_type": "code",
      "source": [
        "model = AutoEncoder()\n",
        "early_stopping = tf.keras.callbacks.EarlyStopping(monitor=\"loss\", patience=2, mode=\"min\")\n",
        "model.compile(optimizer='adadelta', loss='binary_crossentropy')\n",
        "history = model.fit(x_train, x_train,\n",
        "                    epochs=50,\n",
        "                    batch_size=120,\n",
        "                    shuffle=True,\n",
        "                    callbacks=[early_stopping]\n",
        "                    )"
      ],
      "metadata": {
        "colab": {
          "base_uri": "https://localhost:8080/"
        },
        "id": "wwd7tZQMyisg",
        "outputId": "47578e50-6ddc-4954-ddcd-6cc308d432f2"
      },
      "execution_count": null,
      "outputs": [
        {
          "output_type": "stream",
          "name": "stdout",
          "text": [
            "Epoch 1/50\n",
            "2137/2137 [==============================] - 6s 3ms/step - loss: 0.6872\n",
            "Epoch 2/50\n",
            "2137/2137 [==============================] - 5s 2ms/step - loss: 0.6788\n",
            "Epoch 3/50\n",
            "2137/2137 [==============================] - 5s 2ms/step - loss: 0.6698\n",
            "Epoch 4/50\n",
            "2137/2137 [==============================] - 5s 2ms/step - loss: 0.6602\n",
            "Epoch 5/50\n",
            "2137/2137 [==============================] - 5s 2ms/step - loss: 0.6502\n",
            "Epoch 6/50\n",
            "2137/2137 [==============================] - 5s 2ms/step - loss: 0.6396\n",
            "Epoch 7/50\n",
            "2137/2137 [==============================] - 4s 2ms/step - loss: 0.6286\n",
            "Epoch 8/50\n",
            "2137/2137 [==============================] - 5s 2ms/step - loss: 0.6171\n",
            "Epoch 9/50\n",
            "2137/2137 [==============================] - 5s 2ms/step - loss: 0.6052\n",
            "Epoch 10/50\n",
            "2137/2137 [==============================] - 5s 2ms/step - loss: 0.5927\n",
            "Epoch 11/50\n",
            "2137/2137 [==============================] - 5s 2ms/step - loss: 0.5796\n",
            "Epoch 12/50\n",
            "2137/2137 [==============================] - 5s 2ms/step - loss: 0.5661\n",
            "Epoch 13/50\n",
            "2137/2137 [==============================] - 4s 2ms/step - loss: 0.5520\n",
            "Epoch 14/50\n",
            "2137/2137 [==============================] - 5s 2ms/step - loss: 0.5373\n",
            "Epoch 15/50\n",
            "2137/2137 [==============================] - 5s 3ms/step - loss: 0.5220\n",
            "Epoch 16/50\n",
            "2137/2137 [==============================] - 5s 2ms/step - loss: 0.5064\n",
            "Epoch 17/50\n",
            "2137/2137 [==============================] - 5s 2ms/step - loss: 0.4904\n",
            "Epoch 18/50\n",
            "2137/2137 [==============================] - 5s 2ms/step - loss: 0.4740\n",
            "Epoch 19/50\n",
            "2137/2137 [==============================] - 4s 2ms/step - loss: 0.4573\n",
            "Epoch 20/50\n",
            "2137/2137 [==============================] - 5s 2ms/step - loss: 0.4404\n",
            "Epoch 21/50\n",
            "2137/2137 [==============================] - 4s 2ms/step - loss: 0.4234\n",
            "Epoch 22/50\n",
            "2137/2137 [==============================] - 5s 2ms/step - loss: 0.4061\n",
            "Epoch 23/50\n",
            "2137/2137 [==============================] - 5s 2ms/step - loss: 0.3887\n",
            "Epoch 24/50\n",
            "2137/2137 [==============================] - 5s 2ms/step - loss: 0.3714\n",
            "Epoch 25/50\n",
            "2137/2137 [==============================] - 5s 2ms/step - loss: 0.3541\n",
            "Epoch 26/50\n",
            "2137/2137 [==============================] - 6s 3ms/step - loss: 0.3369\n",
            "Epoch 27/50\n",
            "2137/2137 [==============================] - 5s 2ms/step - loss: 0.3198\n",
            "Epoch 28/50\n",
            "2137/2137 [==============================] - 5s 2ms/step - loss: 0.3029\n",
            "Epoch 29/50\n",
            "2137/2137 [==============================] - 5s 2ms/step - loss: 0.2864\n",
            "Epoch 30/50\n",
            "2137/2137 [==============================] - 4s 2ms/step - loss: 0.2704\n",
            "Epoch 31/50\n",
            "2137/2137 [==============================] - 5s 2ms/step - loss: 0.2543\n",
            "Epoch 32/50\n",
            "2137/2137 [==============================] - 5s 2ms/step - loss: 0.2385\n",
            "Epoch 33/50\n",
            "2137/2137 [==============================] - 4s 2ms/step - loss: 0.2230\n",
            "Epoch 34/50\n",
            "2137/2137 [==============================] - 4s 2ms/step - loss: 0.2076\n",
            "Epoch 35/50\n",
            "2137/2137 [==============================] - 5s 2ms/step - loss: 0.1930\n",
            "Epoch 36/50\n",
            "2137/2137 [==============================] - 4s 2ms/step - loss: 0.1784\n",
            "Epoch 37/50\n",
            "2137/2137 [==============================] - 5s 2ms/step - loss: 0.1642\n",
            "Epoch 38/50\n",
            "2137/2137 [==============================] - 5s 2ms/step - loss: 0.1500\n",
            "Epoch 39/50\n",
            "2137/2137 [==============================] - 5s 2ms/step - loss: 0.1365\n",
            "Epoch 40/50\n",
            "2137/2137 [==============================] - 5s 2ms/step - loss: 0.1233\n",
            "Epoch 41/50\n",
            "2137/2137 [==============================] - 5s 2ms/step - loss: 0.1104\n",
            "Epoch 42/50\n",
            "2137/2137 [==============================] - 5s 2ms/step - loss: 0.0976\n",
            "Epoch 43/50\n",
            "2137/2137 [==============================] - 5s 2ms/step - loss: 0.0853\n",
            "Epoch 44/50\n",
            "2137/2137 [==============================] - 5s 2ms/step - loss: 0.0732\n",
            "Epoch 45/50\n",
            "2137/2137 [==============================] - 5s 2ms/step - loss: 0.0613\n",
            "Epoch 46/50\n",
            "2137/2137 [==============================] - 6s 3ms/step - loss: 0.0495\n",
            "Epoch 47/50\n",
            "2137/2137 [==============================] - 5s 2ms/step - loss: 0.0378\n",
            "Epoch 48/50\n",
            "2137/2137 [==============================] - 5s 2ms/step - loss: 0.0264\n",
            "Epoch 49/50\n",
            "2137/2137 [==============================] - 4s 2ms/step - loss: 0.0152\n",
            "Epoch 50/50\n",
            "2137/2137 [==============================] - 5s 2ms/step - loss: 0.0043\n"
          ]
        }
      ]
    },
    {
      "cell_type": "code",
      "source": [
        "encoder_out = model.encoder(x_test).numpy() #2 unit representation of data\n",
        "decoder_out = model.decoder(encoder_out).numpy()"
      ],
      "metadata": {
        "id": "OCIxmlTF1FPv"
      },
      "execution_count": null,
      "outputs": []
    },
    {
      "cell_type": "code",
      "source": [
        "for i in range(10):\n",
        "  print(encoder_out[i])\n",
        ""
      ],
      "metadata": {
        "colab": {
          "base_uri": "https://localhost:8080/"
        },
        "id": "2a4zwnZy1TWb",
        "outputId": "01db5deb-f236-4964-cb0e-f034e9af31a2"
      },
      "execution_count": null,
      "outputs": [
        {
          "output_type": "stream",
          "name": "stdout",
          "text": [
            "[ 0.34730738 15.686059  ]\n",
            "[0.        4.3598804]\n",
            "[0.        3.2165682]\n",
            "[1.8634523 5.5486035]\n",
            "[0.      4.97992]\n",
            "[0.        5.2670355]\n",
            "[0.       4.759046]\n",
            "[0.9434626 9.0688505]\n",
            "[0.        8.9642725]\n",
            "[ 0.    11.609]\n"
          ]
        }
      ]
    },
    {
      "cell_type": "code",
      "source": [
        "import matplotlib.pyplot as plt\n",
        "\n",
        "reconstruction = model.predict(x_test)\n",
        "train_loss = tf.keras.losses.binary_crossentropy(reconstruction, x_test)\n",
        "plt.hist(train_loss, bins=50)"
      ],
      "metadata": {
        "colab": {
          "base_uri": "https://localhost:8080/",
          "height": 647
        },
        "id": "kkOqX8PN2LcD",
        "outputId": "aa1e76ca-95de-4ccb-978c-5b32d63e97c2"
      },
      "execution_count": null,
      "outputs": [
        {
          "output_type": "stream",
          "name": "stdout",
          "text": [
            "891/891 [==============================] - 1s 1ms/step\n"
          ]
        },
        {
          "output_type": "execute_result",
          "data": {
            "text/plain": [
              "(array([9.000e+00, 4.200e+01, 1.070e+02, 1.710e+02, 2.370e+02, 5.150e+02,\n",
              "        7.100e+02, 8.740e+02, 1.148e+03, 1.443e+03, 1.663e+03, 1.722e+03,\n",
              "        1.981e+03, 2.126e+03, 2.078e+03, 2.068e+03, 1.841e+03, 1.578e+03,\n",
              "        1.439e+03, 1.228e+03, 1.015e+03, 9.830e+02, 8.100e+02, 6.180e+02,\n",
              "        5.000e+02, 3.790e+02, 2.780e+02, 2.240e+02, 1.870e+02, 1.610e+02,\n",
              "        7.800e+01, 7.000e+01, 5.700e+01, 3.300e+01, 3.300e+01, 2.100e+01,\n",
              "        1.200e+01, 1.000e+01, 1.100e+01, 3.000e+00, 3.000e+00, 5.000e+00,\n",
              "        2.000e+00, 3.000e+00, 0.000e+00, 2.000e+00, 0.000e+00, 0.000e+00,\n",
              "        1.000e+00, 2.000e+00]),\n",
              " array([0.47197832, 0.6204835 , 0.76898867, 0.91749385, 1.06599902,\n",
              "        1.2145042 , 1.36300937, 1.51151455, 1.66001972, 1.8085249 ,\n",
              "        1.95703008, 2.10553525, 2.25404043, 2.4025456 , 2.55105078,\n",
              "        2.69955595, 2.84806113, 2.9965663 , 3.14507148, 3.29357666,\n",
              "        3.44208183, 3.59058701, 3.73909218, 3.88759736, 4.03610253,\n",
              "        4.18460771, 4.33311288, 4.48161806, 4.63012323, 4.77862841,\n",
              "        4.92713359, 5.07563876, 5.22414394, 5.37264911, 5.52115429,\n",
              "        5.66965946, 5.81816464, 5.96666981, 6.11517499, 6.26368017,\n",
              "        6.41218534, 6.56069052, 6.70919569, 6.85770087, 7.00620604,\n",
              "        7.15471122, 7.30321639, 7.45172157, 7.60022674, 7.74873192,\n",
              "        7.8972371 ]),\n",
              " <a list of 50 Patch objects>)"
            ]
          },
          "metadata": {},
          "execution_count": 11
        },
        {
          "output_type": "display_data",
          "data": {
            "text/plain": [
              "<Figure size 432x288 with 1 Axes>"
            ],
            "image/png": "[encoded data removed]"
          },
          "metadata": {
            "needs_background": "light"
          }
        }
      ]
    },
    {
      "cell_type": "code",
      "source": [
        "\n",
        "plt.figure(figsize=(6, 6))\n",
        "plt.scatter(encoder_out[:, 0], encoder_out[:, 1],c=train_loss)\n",
        "plt.colorbar()\n",
        "plt.show()"
      ],
      "metadata": {
        "colab": {
          "base_uri": "https://localhost:8080/",
          "height": 374
        },
        "id": "zG-Jw4RMCblJ",
        "outputId": "4c19ee4c-4089-44a1-9e29-287b7d38b5bb"
      },
      "execution_count": null,
      "outputs": [
        {
          "output_type": "display_data",
          "data": {
            "text/plain": [
              "<Figure size 432x432 with 2 Axes>"
            ],
            "image/png": "[encoded data removed]"
          },
          "metadata": {
            "needs_background": "light"
          }
        }
      ]
    }
  ],
  "metadata": {
    "kernelspec": {
      "display_name": "Python 3",
      "language": "python",
      "name": "python3"
    },
    "language_info": {
      "codemirror_mode": {
        "name": "ipython",
        "version": 3
      },
      "file_extension": ".py",
      "mimetype": "text/x-python",
      "name": "python",
      "nbconvert_exporter": "python",
      "pygments_lexer": "ipython3",
      "version": "3.7.1"
    },
    "colab": {
      "provenance": [],
      "include_colab_link": true
    }
  },
  "nbformat": 4,
  "nbformat_minor": 0
}